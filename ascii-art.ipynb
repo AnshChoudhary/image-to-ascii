{
 "cells": [
  {
   "cell_type": "code",
   "execution_count": 3,
   "id": "193c2d3e",
   "metadata": {},
   "outputs": [],
   "source": [
    "from PIL import Image\n",
    "def asciiConvert(image, type, saveas, scale):\n",
    "    scale = int(scale)\n",
    "\n",
    "    # open and get image size\n",
    "    img = Image.open(image)\n",
    "    w,h = img.size\n",
    "\n",
    "    # resize image (downscale)\n",
    "    img.resize((w//scale, h//scale)).save(\"resized.%s\" % type)\n",
    "\n",
    "    # open new image\n",
    "    img = Image.open(\"resized.%s\" % type)\n",
    "    w, h = img.size # get new width and height \n",
    "\n",
    "\n",
    "    # list with correct length and height (same as resized image)\n",
    "    grid = []\n",
    "    for i in range(h):\n",
    "        grid.append([\"X\"] * w)\n",
    "\n",
    "    pix = img.load()\n",
    "\n",
    "\n",
    "    for y in range(h):\n",
    "        for x in range(w):\n",
    "            if sum(pix[x,y]) == 0:\n",
    "                grid[y][x] = \"#\"\n",
    "            elif sum(pix[x,y]) in range(1,100):\n",
    "                grid[y][x] = \"X\"\n",
    "            elif sum(pix[x,y]) in range(100,200):\n",
    "                grid[y][x] = \"%\"\n",
    "            elif sum(pix[x,y]) in range(200,300):\n",
    "                grid[y][x] = \"&\"\n",
    "            elif sum(pix[x,y]) in range(300,400):\n",
    "                grid[y][x] = \"*\"\n",
    "            elif sum(pix[x,y]) in range(400,500):\n",
    "                grid[y][x] = \"+\"\n",
    "            elif sum(pix[x,y]) in range(500,600):\n",
    "                grid[y][x] = \"/\"\n",
    "            elif sum(pix[x,y]) in range(600,700):\n",
    "                grid[y][x] = \"(\"\n",
    "            elif sum(pix[x,y]) in range(700,750):\n",
    "                grid[y][x] = \"'\"\n",
    "            else:\n",
    "                grid[y][x] = \" \"\n",
    "                \n",
    "    art = open(saveas, \"w\")\n",
    "\n",
    "    for row in grid:\n",
    "        art.write(\"\".join(row)+\"\\n\")\n",
    "\n",
    "    art.close()\n",
    "\n",
    "if __name__ == '__main__':\n",
    "    asciiConvert(\"cat.jpg\", \"jpg\", \"cat.txt\", \"5\")\n"
   ]
  },
  {
   "cell_type": "code",
   "execution_count": null,
   "id": "d3b1b271",
   "metadata": {},
   "outputs": [],
   "source": []
  }
 ],
 "metadata": {
  "kernelspec": {
   "display_name": "Python 3.11.0 64-bit",
   "language": "python",
   "name": "python3"
  },
  "language_info": {
   "codemirror_mode": {
    "name": "ipython",
    "version": 3
   },
   "file_extension": ".py",
   "mimetype": "text/x-python",
   "name": "python",
   "nbconvert_exporter": "python",
   "pygments_lexer": "ipython3",
   "version": "3.11.0"
  },
  "vscode": {
   "interpreter": {
    "hash": "aee8b7b246df8f9039afb4144a1f6fd8d2ca17a180786b69acc140d282b71a49"
   }
  }
 },
 "nbformat": 4,
 "nbformat_minor": 5
}
